{
 "cells": [
  {
   "cell_type": "code",
   "execution_count": 1,
   "metadata": {},
   "outputs": [],
   "source": [
    "import csv\n",
    "import json\n",
    "\n",
    "from sqlalchemy import create_engine, Column, Integer, String\n",
    "from sqlalchemy.ext.declarative import declarative_base\n",
    "Base = declarative_base()"
   ]
  },
  {
   "cell_type": "code",
   "execution_count": 2,
   "metadata": {},
   "outputs": [],
   "source": [
    "class Congress_list(Base):\n",
    "    __tablename__ = 'congress_list'\n",
    "    id = Column(Integer, primary_key=True)\n",
    "    congress_num = Column(Integer)\n",
    "    election_year = Column(Integer)    \n",
    "    state = Column(String)\n",
    "    st_abbrev = Column(String)\n",
    "    fips = Column(Integer)\n",
    "    STATEFP = Column(String)\n",
    "    district = Column(Integer)\n",
    "    CD115FP = Column(String)\n",
    "    GEOID = Column(String)\n",
    "    name = Column(String)\n",
    "    party = Column(String)\n",
    "    fec_candidate_id = Column(String)\n",
    "    url = Column(String)\n",
    "    fin_total_receipt = Column(Integer)\n",
    "    fin_total_disbursement = Column(Integer)\n",
    "    employment = Column(Integer)\n",
    "    annual_payroll_in_1000 = Column(Integer)\n",
    "    num_of_establishment = Column(Integer)\n"
   ]
  },
  {
   "cell_type": "code",
   "execution_count": 3,
   "metadata": {},
   "outputs": [
    {
     "data": {
      "text/plain": [
       "immutabledict({'congress_list': Table('congress_list', MetaData(bind=None), Column('id', Integer(), table=<congress_list>, primary_key=True, nullable=False), Column('congress_num', Integer(), table=<congress_list>), Column('election_year', Integer(), table=<congress_list>), Column('state', String(), table=<congress_list>), Column('st_abbrev', String(), table=<congress_list>), Column('fips', Integer(), table=<congress_list>), Column('STATEFP', String(), table=<congress_list>), Column('district', Integer(), table=<congress_list>), Column('CD115FP', String(), table=<congress_list>), Column('GEOID', String(), table=<congress_list>), Column('name', String(), table=<congress_list>), Column('party', String(), table=<congress_list>), Column('fec_candidate_id', String(), table=<congress_list>), Column('url', String(), table=<congress_list>), Column('fin_total_receipt', Integer(), table=<congress_list>), Column('fin_total_disbursement', Integer(), table=<congress_list>), Column('employment', Integer(), table=<congress_list>), Column('annual_payroll_in_1000', Integer(), table=<congress_list>), Column('num_of_establishment', Integer(), table=<congress_list>), schema=None)})"
      ]
     },
     "execution_count": 3,
     "metadata": {},
     "output_type": "execute_result"
    }
   ],
   "source": [
    "Base.metadata.tables"
   ]
  },
  {
   "cell_type": "code",
   "execution_count": 4,
   "metadata": {},
   "outputs": [],
   "source": [
    "engine = create_engine('sqlite:///congress_list.sqlite')"
   ]
  },
  {
   "cell_type": "code",
   "execution_count": 5,
   "metadata": {},
   "outputs": [],
   "source": [
    "Base.metadata.create_all(engine)"
   ]
  },
  {
   "cell_type": "code",
   "execution_count": 6,
   "metadata": {},
   "outputs": [],
   "source": [
    "from sqlalchemy.orm import Session\n",
    "session = Session(engine)"
   ]
  },
  {
   "cell_type": "code",
   "execution_count": 7,
   "metadata": {},
   "outputs": [],
   "source": [
    "session.query(Congress_list).delete()\n",
    "session.commit()"
   ]
  },
  {
   "cell_type": "code",
   "execution_count": 8,
   "metadata": {},
   "outputs": [
    {
     "data": {
      "text/plain": [
       "[]"
      ]
     },
     "execution_count": 8,
     "metadata": {},
     "output_type": "execute_result"
    }
   ],
   "source": [
    "session.query(Congress_list.state, Congress_list.GEOID,Congress_list.name ).all()"
   ]
  },
  {
   "cell_type": "code",
   "execution_count": 10,
   "metadata": {},
   "outputs": [],
   "source": [
    "file = './Resources/dashboard_us_congress_list.csv'\n",
    "\n",
    "with open(file, newline='') as csvfile:\n",
    "    csvreader = csv.reader(csvfile, delimiter=',')\n",
    "    csv_header = next(csvreader)\n",
    "    for row in csvreader:\n",
    "        session.add(Congress_list(congress_num = row[0], election_year = row[1], \n",
    "                                  state = row[2], st_abbrev = row[3], fips = row[4], STATEFP = row[5], \n",
    "                                  district = row[6], CD115FP = row[7], GEOID = row[8], name = row[9], \n",
    "                                  party = row[10], fec_candidate_id = row[11], url = row[12], \n",
    "                                  fin_total_receipt = row[13], fin_total_disbursement = row[14], \n",
    "                                  employment = row[15], annual_payroll_in_1000 = row[16], \n",
    "                                  num_of_establishment = row[17]))"
   ]
  },
  {
   "cell_type": "code",
   "execution_count": null,
   "metadata": {},
   "outputs": [],
   "source": [
    "engine.execute('select * from congress_list').fetchall()"
   ]
  },
  {
   "cell_type": "code",
   "execution_count": null,
   "metadata": {},
   "outputs": [],
   "source": [
    "session.new"
   ]
  },
  {
   "cell_type": "code",
   "execution_count": null,
   "metadata": {},
   "outputs": [],
   "source": [
    "session.commit()"
   ]
  },
  {
   "cell_type": "code",
   "execution_count": null,
   "metadata": {},
   "outputs": [],
   "source": [
    "session.new\n",
    "session.query(Congress_list.state, Congress_list.GEOID,Congress_list.name ).all()"
   ]
  },
  {
   "cell_type": "code",
   "execution_count": null,
   "metadata": {},
   "outputs": [],
   "source": []
  },
  {
   "cell_type": "code",
   "execution_count": null,
   "metadata": {},
   "outputs": [],
   "source": []
  }
 ],
 "metadata": {
  "kernelspec": {
   "display_name": "Python [conda env:PythonData]",
   "language": "python",
   "name": "conda-env-PythonData-py"
  },
  "language_info": {
   "codemirror_mode": {
    "name": "ipython",
    "version": 3
   },
   "file_extension": ".py",
   "mimetype": "text/x-python",
   "name": "python",
   "nbconvert_exporter": "python",
   "pygments_lexer": "ipython3",
   "version": "3.6.5"
  }
 },
 "nbformat": 4,
 "nbformat_minor": 2
}
